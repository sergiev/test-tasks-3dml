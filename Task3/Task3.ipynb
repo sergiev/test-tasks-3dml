{
 "cells": [
  {
   "cell_type": "markdown",
   "metadata": {},
   "source": [
    "# Описание задачи"
   ]
  },
  {
   "cell_type": "markdown",
   "metadata": {},
   "source": [
    "[Дан набор 3D примитивов](https://drive.google.com/file/d/1xM5diKjMbp_PfNu--JG2A-ZeFk9TLkks/view?usp=sharing). Необходимо решить задачу классификации объектов с помощью нейронной сети, представленных в форме облака точек.\n",
    "\n",
    "Набор данных разбит на три части: `train`, `test`, `valid`.\n",
    "\n",
    "Для этого нужно:\n",
    "\n",
    "1. Используя набор данных из категории `train` обучить модель классификации.\n",
    "2. Оценить качество её работы на объектах из категории `test`. Для этого воспользоваться [classification_report из scikit-learn](https://scikit-learn.org/stable/modules/generated/sklearn.metrics.classification_report.html?highlight=report#sklearn.metrics.classification_report). Провести финальную оценку на `valid`. Написать краткий отчёт по результатам оценки качества модели: насколько хорошо/плохо работает модель, насколько она обобщается на данные из `valid` набора, что можно сделать для улучшения результатов.\n",
    "\n",
    "\n",
    "Задачу можно решать в [Google Colab](https://colab.research.google.com/), если нет возможности использовать GPU."
   ]
  },
  {
   "cell_type": "markdown",
   "metadata": {},
   "source": [
    "# Предупреждение\n",
    "\n",
    "Решение данного задания использует shell-скрипты - для воспроизведения примеров рекомендую использовать нативный Linux (например, [Ubuntu 20.04](https://ubuntu.com/download/desktop)) или [WSL](https://docs.microsoft.com/ru-ru/windows/wsl/install-win10).\n",
    "\n",
    "# Решение\n",
    "\n",
    "Возьмём один из [наиболее известных](https://paperswithcode.com/task/3d-object-classification) методов классификаций трёхмерных объектов - [MeshCNN](https://github.com/ranahanocka/MeshCNN) - обучим его и оценим качество на соответствующих подвыборках. \n",
    "\n",
    "Прежде всего, загрузим набор примитивов **(перед запуском следующей клетки убедитесь, что у вас установлен `unzip`)**:"
   ]
  },
  {
   "cell_type": "code",
   "execution_count": 1,
   "metadata": {},
   "outputs": [
    {
     "name": "stdout",
     "output_type": "stream",
     "text": [
      "Downloading...\n",
      "From: https://drive.google.com/uc?id=1xM5diKjMbp_PfNu--JG2A-ZeFk9TLkks\n",
      "To: /mnt/c/Users/semyo/PycharmProjects/test-tasks-3dml/Task3/dataset-v2.zip\n",
      "10.4MB [00:01, 9.39MB/s]\n"
     ]
    }
   ],
   "source": [
    "!./scripts/get_data.sh"
   ]
  },
  {
   "cell_type": "markdown",
   "metadata": {},
   "source": [
    "Запустим обучение. Большинство параметров взяты из `MeshCNN/scripts/shrec/train.sh`, исключения:\n",
    "- `ninput_edges` увеличен с запасом, потому что есть примитивы с большим числом граней, чем в SHREC. Пример: тор (`torus`).\n",
    "- по той же причине увеличен `pool_res`\n",
    "- `niter` и `niter_decay` снижены со 100 и 500 до 15 и 10 соответственно, потому что 100% точность на `test` чаще всего (`seed` не фиксирован) достигается к 15-й эпохе\n",
    "- `print_freq` (который стоило бы назвать `print_period` или `iters_per_print`) увеличен впятеро для услады глаз и колёсика мыши\n",
    "\n",
    "*Перед запуском обучения убедитесь, что ваше устройство поддерживает CUDA и что необходимые nvidia-драйвера установлены. Если вы не собираетесь задействовать GPU, можете пропустить следующую клетку - все остальные скрипты GPU не требуют*"
   ]
  },
  {
   "cell_type": "code",
   "execution_count": null,
   "metadata": {},
   "outputs": [],
   "source": [
    "!./scripts/train.sh"
   ]
  },
  {
   "cell_type": "markdown",
   "metadata": {},
   "source": [
    "Также вместо обучения с нуля можно воспользоваться моделью с \"готовыми\" весами, полученными с помощью скрипта из предыдущей клетки:"
   ]
  },
  {
   "cell_type": "code",
   "execution_count": 2,
   "metadata": {},
   "outputs": [
    {
     "name": "stdout",
     "output_type": "stream",
     "text": [
      "Downloading...\n",
      "From: https://drive.google.com/uc?id=1YbGrSbcanFTKFbIaH-kKDcaqXy4JdNeG\n",
      "To: /mnt/c/Users/semyo/PycharmProjects/test-tasks-3dml/Task3/latest_net.pth\n",
      "5.30MB [00:00, 7.81MB/s]\n"
     ]
    }
   ],
   "source": [
    "!./scripts/get_pretrained.sh"
   ]
  },
  {
   "cell_type": "markdown",
   "metadata": {},
   "source": [
    "Оценим точность на `test` и `valid`. Скрипт вызывает `MeshCNN/sklearn_test.py`"
   ]
  },
  {
   "cell_type": "code",
   "execution_count": 6,
   "metadata": {},
   "outputs": [
    {
     "name": "stdout",
     "output_type": "stream",
     "text": [
      "loaded mean / std from cache\n",
      "loading the model from ../MeshCNN/checkpoints/primitives/latest_net.pth\n",
      "              precision    recall  f1-score   support\n",
      "\n",
      "        cone       1.00      1.00      1.00       100\n",
      "        cube       1.00      1.00      1.00       100\n",
      "    cylinder       1.00      1.00      1.00       100\n",
      "       plane       1.00      1.00      1.00       100\n",
      "       torus       1.00      1.00      1.00       100\n",
      "   uv_sphere       1.00      1.00      1.00       100\n",
      "\n",
      "    accuracy                           1.00       600\n",
      "   macro avg       1.00      1.00      1.00       600\n",
      "weighted avg       1.00      1.00      1.00       600\n",
      "\n"
     ]
    }
   ],
   "source": [
    "!./scripts/estimate.sh test"
   ]
  },
  {
   "cell_type": "code",
   "execution_count": 8,
   "metadata": {},
   "outputs": [
    {
     "name": "stdout",
     "output_type": "stream",
     "text": [
      "loaded mean / std from cache\n",
      "loading the model from ../MeshCNN/checkpoints/primitives/latest_net.pth\n",
      "              precision    recall  f1-score   support\n",
      "\n",
      "        cone       1.00      1.00      1.00        50\n",
      "        cube       1.00      1.00      1.00        50\n",
      "    cylinder       1.00      1.00      1.00        50\n",
      "       plane       1.00      1.00      1.00        50\n",
      "       torus       1.00      1.00      1.00        50\n",
      "   uv_sphere       1.00      1.00      1.00        50\n",
      "\n",
      "    accuracy                           1.00       300\n",
      "   macro avg       1.00      1.00      1.00       300\n",
      "weighted avg       1.00      1.00      1.00       300\n",
      "\n"
     ]
    }
   ],
   "source": [
    "!./scripts/estimate.sh valid"
   ]
  },
  {
   "cell_type": "markdown",
   "metadata": {},
   "source": [
    "Наблюдается успешное обобщение модели на `valid`. Так как наилучший в смысле точности результат уже достигнут, дальнейшие улучшения модели могут включать себя лишь меры по повышению производительности: например, эксперименты с уменьшением числа слоёв или фильтров свёртки в отдельных слоях."
   ]
  }
 ],
 "metadata": {
  "kernelspec": {
   "display_name": "Python 3",
   "language": "python",
   "name": "python3"
  },
  "language_info": {
   "codemirror_mode": {
    "name": "ipython",
    "version": 3
   },
   "file_extension": ".py",
   "mimetype": "text/x-python",
   "name": "python",
   "nbconvert_exporter": "python",
   "pygments_lexer": "ipython3",
   "version": "3.8.5"
  }
 },
 "nbformat": 4,
 "nbformat_minor": 4
}
