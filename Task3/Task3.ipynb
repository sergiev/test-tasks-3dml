{
 "cells": [
  {
   "cell_type": "markdown",
   "metadata": {},
   "source": [
    "# Описание задачи"
   ]
  },
  {
   "cell_type": "markdown",
   "metadata": {},
   "source": [
    "[Дан набор 3D примитивов](https://drive.google.com/file/d/1xM5diKjMbp_PfNu--JG2A-ZeFk9TLkks/view?usp=sharing). Необходимо решить задачу классификации объектов с помощью нейронной сети, представленных в форме облака точек.\n",
    "\n",
    "Набор данных разбит на три части: `train`, `test`, `valid`.\n",
    "\n",
    "Для этого нужно:\n",
    "\n",
    "1. Используя набор данных из категории `train` обучить модель классификации.\n",
    "2. Оценить качество её работы на объектах из категории `test`. Для этого воспользоваться [classification_report из scikit-learn](https://scikit-learn.org/stable/modules/generated/sklearn.metrics.classification_report.html?highlight=report#sklearn.metrics.classification_report). Провести финальную оценку на `valid`. Написать краткий отчёт по результатам оценки качества модели: насколько хорошо/плохо работает модель, насколько она обобщается на данные из `valid` набора, что можно сделать для улучшения результатов.\n",
    "\n",
    "\n",
    "Задачу можно решать в [Google Colab](https://colab.research.google.com/), если нет возможности использовать GPU."
   ]
  },
  {
   "cell_type": "markdown",
   "metadata": {},
   "source": [
    "# Решение"
   ]
  },
  {
   "cell_type": "markdown",
   "metadata": {},
   "source": [
    "Возьмём один из [наиболее известных](https://paperswithcode.com/task/3d-object-classification) методов классификаций трёхмерных объектов - [MeshCNN](https://github.com/ranahanocka/MeshCNN) - обучим его и оценим качество на соответствующих подвыборках. \n",
    "\n",
    "Прежде всего, загрузим набор примитивов:"
   ]
  },
  {
   "cell_type": "code",
   "execution_count": null,
   "metadata": {},
   "outputs": [],
   "source": [
    "!./scripts/get_data.sh"
   ]
  },
  {
   "cell_type": "markdown",
   "metadata": {},
   "source": [
    "Запустим обучение. Большинство параметров взяты из `MeshCNN/scripts/shrec/train.sh`, исключения:\n",
    "- `ninput_edges` увеличен с запасом, потому что есть примитивы с большим числом граней, чем в SHREC. Пример: тор.\n",
    "- по той же причине увеличен `pool_res`\n",
    "- `niter` и `niter_decay` снижены со 100 и 500 до 25 и 15 соответственно, потому что 100% точность на `test` достигается уже на 11-й эпохе, функция потерь достигает нуля на 32-й эпохе\n",
    "- `print_freq` (который стоило бы назвать `print_period` или `iters_per_print`) увеличен впятеро для услады глаз и колёсика мыши"
   ]
  },
  {
   "cell_type": "code",
   "execution_count": null,
   "metadata": {},
   "outputs": [],
   "source": [
    "!./scripts/train.sh"
   ]
  },
  {
   "cell_type": "code",
   "execution_count": null,
   "metadata": {},
   "outputs": [],
   "source": [
    "!./scripts/test.sh"
   ]
  },
  {
   "cell_type": "code",
   "execution_count": null,
   "metadata": {},
   "outputs": [],
   "source": []
  }
 ],
 "metadata": {
  "kernelspec": {
   "display_name": "Python 3",
   "language": "python",
   "name": "python3"
  },
  "language_info": {
   "codemirror_mode": {
    "name": "ipython",
    "version": 3
   },
   "file_extension": ".py",
   "mimetype": "text/x-python",
   "name": "python",
   "nbconvert_exporter": "python",
   "pygments_lexer": "ipython3",
   "version": "3.9.5"
  }
 },
 "nbformat": 4,
 "nbformat_minor": 4
}
