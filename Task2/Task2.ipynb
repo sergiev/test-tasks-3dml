{
 "cells": [
  {
   "cell_type": "markdown",
   "metadata": {},
   "source": [
    "# Описание задачи\n"
   ]
  },
  {
   "cell_type": "markdown",
   "metadata": {},
   "source": [
    "Дана матрица A:\n",
    "$$\n",
    "A = \\begin{pmatrix}\n",
    "1 & 0 & 0\\\\\n",
    "1 & 1 & 0\\\\\n",
    "0 & -1 & 1000\\\\\n",
    "\\end{pmatrix}\n",
    "$$\n",
    "\n",
    "Необходимо найти $ A^n, $ где $ n \\in \\mathbb{N} $"
   ]
  },
  {
   "cell_type": "markdown",
   "metadata": {
    "tags": []
   },
   "source": [
    "# Решение"
   ]
  },
  {
   "cell_type": "markdown",
   "metadata": {},
   "source": [
    "Можем просто посмотреть на получившийся $А$ и поискать закономерности:"
   ]
  },
  {
   "cell_type": "code",
   "execution_count": null,
   "metadata": {},
   "outputs": [],
   "source": [
    "import sympy\n",
    "\n",
    "A = sympy.Matrix([(1, 0, 0), (1, 1, 0), (0, -1, 1000)])\n",
    "print([C * J ** i * C ** (-1) for i in range(1, 12)])"
   ]
  },
  {
   "cell_type": "markdown",
   "metadata": {},
   "source": [
    "Обнаружить здесь закономерность несложно, но для первых двух элементов последней строки запись будет не слишком лаконичной.\n",
    "Можем найти [ЖНФ](https://en.wikipedia.org/wiki/Jordan_normal_form) и воспользоваться её свойством:\n",
    "$$\n",
    "A^n = C J^n C^{-1}\n",
    "$$\n",
    "Посмотрим, как выглядит $J$ в различных степенях и как можно сократить запись с его помощью:"
   ]
  },
  {
   "cell_type": "code",
   "execution_count": null,
   "metadata": {},
   "outputs": [],
   "source": [
    "C, J = A.jordan_form()\n",
    "print([J ** i for i in range(1, 13)])"
   ]
  },
  {
   "cell_type": "markdown",
   "metadata": {},
   "source": [
    "Выглядит намного проще. Значит, матрицу в произвольной степени можно найти с помощью $J^n=J(n)$:\n",
    "$$\n",
    "A^n = C J^n C^{-1}, \\space где \\\\\n",
    "J^n = \\begin{pmatrix}\n",
    "1 & n & 0\\\\\n",
    "0 & 1 & 0\\\\\n",
    "0 & 0 & 1000^n\\\\\n",
    "\\end{pmatrix},\n",
    "$$"
   ]
  },
  {
   "cell_type": "code",
   "execution_count": null,
   "metadata": {},
   "outputs": [],
   "source": [
    "print(\"C = \", C, \"C^-1 = \", C ** -1, sep=\"\\n\")"
   ]
  },
  {
   "cell_type": "markdown",
   "metadata": {},
   "source": [
    "Проверим быстродействие:"
   ]
  },
  {
   "cell_type": "code",
   "execution_count": null,
   "metadata": {},
   "outputs": [],
   "source": [
    "import time\n",
    "\n",
    "\n",
    "def j_power(n):\n",
    "    return sympy.Matrix([[1, n, 0], [0, 1, 0], [0, 0, 1000 ** n]])\n",
    "\n",
    "\n",
    "C_inv = C ** (-1)\n",
    "max_power = 1000\n",
    "test_range = range(1, max_power + 1)\n",
    "init_stamp = time.process_time()\n",
    "direct_powers = [A ** n for n in test_range]\n",
    "direct_stamp = time.process_time()\n",
    "jnf_powers = [C * J ** n * C_inv for n in test_range]\n",
    "jnf_stamp = time.process_time()\n",
    "alt_jnf = [C * j_power(n) * C_inv for n in test_range]\n",
    "alt_stamp = time.process_time()\n",
    "print(\"direct powers: \", direct_stamp - init_stamp)\n",
    "print(\"simple jnf:    \", jnf_stamp - direct_stamp)\n",
    "print(\"alt jnf:       \", alt_stamp - jnf_stamp)"
   ]
  },
  {
   "cell_type": "markdown",
   "metadata": {},
   "source": [
    "Что упущено? Проверка на соответствие результата эмпирической закономерности простому возведению в степень. Предположим, что степень выше `max_power` нам не интересна:"
   ]
  },
  {
   "cell_type": "code",
   "execution_count": null,
   "metadata": {},
   "outputs": [],
   "source": [
    "print(alt_jnf == jnf_powers == direct_powers)"
   ]
  },
  {
   "cell_type": "markdown",
   "metadata": {},
   "source": [
    "# Ответ\n",
    "Напишем функцию, возвращающую $A^n$: "
   ]
  },
  {
   "cell_type": "code",
   "execution_count": null,
   "metadata": {},
   "outputs": [],
   "source": [
    "def A_power(n):\n",
    "    assert not (n < 1 or n - int(n)), \"only natural powers allowed\"\n",
    "    return C * j_power(n) * C_inv\n",
    "\n",
    "\n",
    "for n in [1, 20, 1.4]:  # check\n",
    "    print(A_power(n))"
   ]
  },
  {
   "cell_type": "markdown",
   "metadata": {},
   "source": [
    "# Post scriptum\n",
    "Конечно, найти $J(n)$ можно было найти аналитически, но в этом случае мы сэкономили время и не прогадали :) "
   ]
  }
 ],
 "metadata": {
  "kernelspec": {
   "display_name": "Python 3",
   "language": "python",
   "name": "python3"
  },
  "language_info": {
   "codemirror_mode": {
    "name": "ipython",
    "version": 3
   },
   "file_extension": ".py",
   "mimetype": "text/x-python",
   "name": "python",
   "nbconvert_exporter": "python",
   "pygments_lexer": "ipython3",
   "version": "3.8.5"
  }
 },
 "nbformat": 4,
 "nbformat_minor": 4
}