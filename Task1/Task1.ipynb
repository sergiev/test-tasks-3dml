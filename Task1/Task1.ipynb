{
 "cells": [
  {
   "cell_type": "markdown",
   "metadata": {},
   "source": [
    "# Описание задачи"
   ]
  },
  {
   "cell_type": "markdown",
   "metadata": {},
   "source": [
    "В некоторой архитектуре нейронной сети зависимость выхода $y \\in \\mathbb{R}$ от входа $(x_1, x_2) \\in \\mathbb{R}^2$ можно записать следующим образом:\n",
    "$$\n",
    "\\begin{align*}\n",
    "&f_1(x_1, x_2) = x_1 + x_2,\\\\\n",
    "&f_2(x_1, x_2) = x_1 \\cdot x_2,\\\\\n",
    "&g_1(x_1, x_2) = \\tan( f_1(x_1, x_2) + f_2(x_1, x_2) + 100),\\\\\n",
    "&g_2(x_1, x_2) = f_1(x_1, x_2) \\cdot f_2(x_1, x_2),\\\\\n",
    "&y(x_1, x_2) = p(g_1(x_1,x_2), g_2(x_1, x_2)),\n",
    "\\end{align*}\n",
    "$$\n",
    "где $p(g_1, g_2)-$ некоторая неизвестная функция.\n",
    "\n",
    "С помощью [механизма автоматического дифференцирования в PyTorch](https://pytorch.org/tutorials/beginner/blitz/autograd_tutorial.html#) необходимо вычислить значения частных производных в разных точках:\n",
    "$$\n",
    "\\frac{\\partial y}{\\partial x_1}, \\frac{\\partial y}{\\partial x_2}, \n",
    "$$\n",
    "\n",
    "Для этого в файле `dev.json` приведены значения $\\frac{\\partial p}{\\partial g_1}, \\frac{\\partial p}{\\partial g_2}$ (обозначены как `dpdg1, dpdg2`), вычисленные при известных значениях входа. \n",
    "\n",
    "Нужно:\n",
    "\n",
    "1. Загрузить данные из файла `dev.json`\n",
    "2. Посчитать значения нужных производных для каждой точки.\n",
    "3. Сохранить результат в формате CSV. Файл должен иметь следующую структуру:\n",
    "```\n",
    "id,dx1,dx2\n",
    "....\n",
    "```\n",
    "`id` - это значение `id` из `dev.json`, `dx1, dx2`- значение производных, вычисленные в точке `id` из `dev.json.`\n",
    "\n",
    "Ответ проверяется с помощью функции [math.isclose](https://docs.python.org/3/library/math.html#math.isclose) с точностью до `1e-8`. "
   ]
  },
  {
   "cell_type": "markdown",
   "metadata": {
    "pycharm": {
     "name": "#%% md\n"
    }
   },
   "source": [
    "# Решение\n",
    "$\n",
    "\\begin{align*}&\n",
    "\\frac{\\partial y}{\\partial x_i} = \\sum_{j=1}^{2} \\frac{\\partial p}{\\partial g_j}\n",
    "(\\sum_{k=1}^{2} \\frac{\\partial g_j}{\\partial f_k} \\frac{\\partial f_k}{\\partial x_i}),\n",
    "\\space \\forall i \\in \\lbrace 1, 2 \\rbrace.\\\\&\n",
    "\\frac{\\partial f_1}{\\partial x_1} = \\frac{\\partial f_1}{\\partial x_2} = 1,\\\\&\n",
    "\\frac{\\partial f_2}{\\partial x_1} = x_2, \\frac{\\partial f_2}{\\partial x_2} = x_1,\\\\&\n",
    "\\frac{\\partial g_1}{\\partial f_1} = \\frac{\\partial g_1}{\\partial f_2} = \\frac{1}{cos^2(f_1 + f_2 + 100)},\\\\&\n",
    "\\frac{\\partial g_2}{\\partial f_1} = f_2, \\frac{\\partial g_2}{\\partial f_2} = f_1,\\\\&\n",
    "\\frac{\\partial y}{\\partial x_1} =\n",
    "\\frac{\\partial p}{\\partial g_1} \\frac{1+x_2}{cos^2(f_1 + f_2 + 100)} +\n",
    "\\frac{\\partial p}{\\partial g_2} (f_2 + f_1 x_2),\\\\&\n",
    "\\frac{\\partial y}{\\partial x_2} =\n",
    "\\frac{\\partial p}{\\partial g_1} \\frac{1+x_1}{cos^2(f_1 + f_2 + 100)} +\n",
    "\\frac{\\partial p}{\\partial g_2} (f_2 + f_1 x_1).\n",
    "\\end{align*}\n",
    "$"
   ]
  },
  {
   "cell_type": "code",
   "execution_count": null,
   "metadata": {},
   "outputs": [],
   "source": [
    "import math\n",
    "import pandas as pd\n",
    "import torch"
   ]
  },
  {
   "cell_type": "code",
   "execution_count": null,
   "metadata": {},
   "outputs": [],
   "source": [
    "def f1(x1, x2):\n",
    "    return x1 + x2\n",
    "\n",
    "\n",
    "def f2(x1, x2):\n",
    "    return x1 * x2\n",
    "\n",
    "\n",
    "def dg1df(x1, x2):\n",
    "    return torch.cos(f1(x1, x2) + f2(x1, x2) + 100) ** -2\n",
    "\n",
    "\n",
    "def dydx1(x1, x2, dpdg1, dpdg2):\n",
    "    return dpdg1 * (1 + x2) * dg1df(x1, x2) + dpdg2 * (f2(x1, x2) + f1(x1, x2) * x2)\n",
    "\n",
    "\n",
    "def dydx2(x1, x2, dpdg1, dpdg2):\n",
    "    return dpdg1 * (1 + x1) * dg1df(x1, x2) + dpdg2 * (f2(x1, x2) + f1(x1, x2) * x1)"
   ]
  },
  {
   "cell_type": "code",
   "execution_count": null,
   "metadata": {},
   "outputs": [],
   "source": [
    "# gradients in default dtype (float32) is too approximate\n",
    "torch.set_default_dtype(torch.float64)\n",
    "\n",
    "json_path = 'dev.json'\n",
    "data_frame = pd.read_json(json_path)\n",
    "\n",
    "x1, x2, dpdg1, dpdg2 = [torch.tensor(data_frame[i], requires_grad=True)\n",
    "                        for i in ('x1', 'x2', 'dpdg1', 'dpdg2')]\n",
    "\n",
    "g1 = torch.tan(x1 + x2 + x1 * x2 + 100)\n",
    "g2 = (x1 + x2) * x1 * x2\n",
    "g = torch.stack([g1, g2])\n",
    "g.backward(gradient=torch.stack([dpdg1, dpdg2]))\n",
    "\n",
    "# gradients provided by Torch\n",
    "tx1, tx2 = x1.grad, x2.grad\n",
    "# gradients provided analytically\n",
    "ax1, ax2 = dydx1(x1, x2, dpdg1, dpdg2), dydx2(x1, x2, dpdg1, dpdg2)\n",
    "\n",
    "ids = range(len(x1))\n",
    "\n",
    "match = [math.isclose(tx1[i], ax1[i], rel_tol=1e-8) and\n",
    "         math.isclose(tx2[i], ax2[i], rel_tol=1e-8) for i in ids]\n",
    "assert not False in match, \"Gradient mismatch!\"\n",
    "\n",
    "csv_path = 'dev.csv'\n",
    "grads = pd.DataFrame({'id': [i + 1 for i in ids], 'dx1': tx1.numpy(), 'dx2': tx2.numpy()})\n",
    "grads.to_csv(csv_path, index=False)"
   ]
  }
 ],
 "metadata": {
  "kernelspec": {
   "display_name": "Python 3",
   "language": "python",
   "name": "python3"
  },
  "language_info": {
   "codemirror_mode": {
    "name": "ipython",
    "version": 3
   },
   "file_extension": ".py",
   "mimetype": "text/x-python",
   "name": "python",
   "nbconvert_exporter": "python",
   "pygments_lexer": "ipython3",
   "version": "3.8.5"
  }
 },
 "nbformat": 4,
 "nbformat_minor": 4
}